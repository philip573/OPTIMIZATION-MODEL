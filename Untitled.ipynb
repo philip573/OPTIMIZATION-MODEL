{
 "cells": [
  {
   "cell_type": "code",
   "execution_count": 2,
   "id": "7d14a8e9-8d7d-41c1-a095-682128f6bf13",
   "metadata": {},
   "outputs": [
    {
     "name": "stdout",
     "output_type": "stream",
     "text": [
      "Requirement already satisfied: pulp in c:\\users\\stall\\anaconda3\\lib\\site-packages (3.2.1)\n",
      "Requirement already satisfied: pandas in c:\\users\\stall\\anaconda3\\lib\\site-packages (2.2.2)\n",
      "Requirement already satisfied: numpy>=1.26.0 in c:\\users\\stall\\anaconda3\\lib\\site-packages (from pandas) (1.26.4)\n",
      "Requirement already satisfied: python-dateutil>=2.8.2 in c:\\users\\stall\\anaconda3\\lib\\site-packages (from pandas) (2.9.0.post0)\n",
      "Requirement already satisfied: pytz>=2020.1 in c:\\users\\stall\\anaconda3\\lib\\site-packages (from pandas) (2024.1)\n",
      "Requirement already satisfied: tzdata>=2022.7 in c:\\users\\stall\\anaconda3\\lib\\site-packages (from pandas) (2023.3)\n",
      "Requirement already satisfied: six>=1.5 in c:\\users\\stall\\anaconda3\\lib\\site-packages (from python-dateutil>=2.8.2->pandas) (1.16.0)\n",
      "Note: you may need to restart the kernel to use updated packages.\n"
     ]
    }
   ],
   "source": [
    "pip install pulp pandas\n"
   ]
  },
  {
   "cell_type": "code",
   "execution_count": 1,
   "id": "5176faa5-752f-4644-b8ac-d1e67accd460",
   "metadata": {},
   "outputs": [],
   "source": [
    "import pandas as pd\n",
    "from pulp import *\n",
    "\n",
    "# Warehouses and stores\n",
    "warehouses = ['W1', 'W2', 'W3', 'W4', 'W5']\n",
    "stores = ['S1', 'S2', 'S3', 'S4', 'S5', 'S6', 'S7', 'S8', 'S9', 'S10']\n",
    "\n",
    "# Supply capacity at each warehouse\n",
    "supply = {'W1': 100, 'W2': 120, 'W3': 130, 'W4': 90, 'W5': 110}\n",
    "\n",
    "# Demand at each store\n",
    "demand = {'S1': 50, 'S2': 60, 'S3': 40, 'S4': 30, 'S5': 70,\n",
    "          'S6': 30, 'S7': 60, 'S8': 40, 'S9': 50, 'S10': 60}\n",
    "\n",
    "costs = {\n",
    "    ('W1', 'S1'): 20, ('W1', 'S2'): 24, ('W1', 'S3'): 18, ('W1', 'S4'): 25, ('W1', 'S5'): 22,\n",
    "    ('W1', 'S6'): 27, ('W1', 'S7'): 30, ('W1', 'S8'): 21, ('W1', 'S9'): 23, ('W1', 'S10'): 26,\n",
    "\n",
    "    ('W2', 'S1'): 28, ('W2', 'S2'): 20, ('W2', 'S3'): 22, ('W2', 'S4'): 30, ('W2', 'S5'): 24,\n",
    "    ('W2', 'S6'): 26, ('W2', 'S7'): 29, ('W2', 'S8'): 23, ('W2', 'S9'): 25, ('W2', 'S10'): 27,\n",
    "\n",
    "    ('W3', 'S1'): 21, ('W3', 'S2'): 19, ('W3', 'S3'): 20, ('W3', 'S4'): 23, ('W3', 'S5'): 28,\n",
    "    ('W3', 'S6'): 26, ('W3', 'S7'): 22, ('W3', 'S8'): 25, ('W3', 'S9'): 24, ('W3', 'S10'): 27,\n",
    "\n",
    "    ('W4', 'S1'): 25, ('W4', 'S2'): 28, ('W4', 'S3'): 22, ('W4', 'S4'): 20, ('W4', 'S5'): 24,\n",
    "    ('W4', 'S6'): 30, ('W4', 'S7'): 27, ('W4', 'S8'): 21, ('W4', 'S9'): 26, ('W4', 'S10'): 29,\n",
    "\n",
    "    ('W5', 'S1'): 23, ('W5', 'S2'): 21, ('W5', 'S3'): 26, ('W5', 'S4'): 24, ('W5', 'S5'): 22,\n",
    "    ('W5', 'S6'): 28, ('W5', 'S7'): 29, ('W5', 'S8'): 25, ('W5', 'S9'): 27, ('W5', 'S10'): 30,\n",
    "}\n",
    "\n",
    "# Fill cost matrix randomly for the example\n",
    "import random\n",
    "costs = {(w, s): random.randint(10, 40) for w in warehouses for s in stores}\n"
   ]
  },
  {
   "cell_type": "code",
   "execution_count": 2,
   "id": "86f9db53-05b2-46a9-9f4d-1a90e3552e5f",
   "metadata": {},
   "outputs": [],
   "source": [
    "model = LpProblem(\"Supply_Chain_Optimization\", LpMinimize)\n"
   ]
  },
  {
   "cell_type": "code",
   "execution_count": 3,
   "id": "675d627c-ed01-47f2-b3b6-989593842ed1",
   "metadata": {},
   "outputs": [],
   "source": [
    "routes = LpVariable.dicts(\"Route\", (warehouses, stores), lowBound=0, cat='Integer')\n"
   ]
  },
  {
   "cell_type": "code",
   "execution_count": 4,
   "id": "7295ab10-94af-4d4b-882a-c5600c3f078b",
   "metadata": {},
   "outputs": [],
   "source": [
    "model += lpSum([routes[w][s] * costs[(w, s)] for w in warehouses for s in stores])\n"
   ]
  },
  {
   "cell_type": "code",
   "execution_count": 7,
   "id": "d2f694b2-bd4e-477c-b2ee-4a7fe1cea567",
   "metadata": {},
   "outputs": [],
   "source": [
    "model = LpProblem(\"Supply_Chain_Optimization\", LpMinimize)\n",
    "\n",
    "# Redefine the objective function again before adding constraints\n",
    "model += lpSum([routes[w][s] * costs[(w, s)] for w in warehouses for s in stores])\n"
   ]
  },
  {
   "cell_type": "code",
   "execution_count": 8,
   "id": "5c00e00f-c604-4f94-9d56-ea78fb862940",
   "metadata": {},
   "outputs": [],
   "source": [
    "for w in warehouses:\n",
    "    model += lpSum([routes[w][s] for s in stores]) <= supply[w], f\"Supply_Constraint_{w}\"\n"
   ]
  },
  {
   "cell_type": "code",
   "execution_count": 9,
   "id": "7e87e23e-19ba-46e3-93e0-4cacc17c3316",
   "metadata": {},
   "outputs": [],
   "source": [
    "for s in stores:\n",
    "    model += lpSum([routes[w][s] for w in warehouses]) >= demand[s], f\"Demand_Constraint_{s}\"\n"
   ]
  },
  {
   "cell_type": "code",
   "execution_count": 10,
   "id": "72c6b90c-cdba-4a56-a5d0-6912ed157c76",
   "metadata": {},
   "outputs": [
    {
     "name": "stdout",
     "output_type": "stream",
     "text": [
      "Status: Optimal\n"
     ]
    }
   ],
   "source": [
    "model.solve()\n",
    "print(\"Status:\", LpStatus[model.status])\n"
   ]
  },
  {
   "cell_type": "code",
   "execution_count": 11,
   "id": "528dfe68-9cab-4010-9e24-1194546c75f8",
   "metadata": {},
   "outputs": [
    {
     "name": "stdout",
     "output_type": "stream",
     "text": [
      "Total Cost: ₹ 7730.0\n",
      "   From   To  Units Shipped  Cost/Unit  Total Cost\n",
      "0    W1   S1           50.0         18       900.0\n",
      "1    W1   S4           30.0         17       510.0\n",
      "2    W1   S9           20.0         23       460.0\n",
      "3    W2   S3           40.0         15       600.0\n",
      "4    W2   S5           30.0         18       540.0\n",
      "5    W2   S7           50.0         12       600.0\n",
      "6    W3   S6           30.0         14       420.0\n",
      "7    W3   S7           10.0         14       140.0\n",
      "8    W3   S9           30.0         24       720.0\n",
      "9    W4   S2           50.0         15       750.0\n",
      "10   W4   S8           40.0         12       480.0\n",
      "11   W5   S2           10.0         15       150.0\n",
      "12   W5   S5           40.0         14       560.0\n",
      "13   W5  S10           60.0         15       900.0\n"
     ]
    }
   ],
   "source": [
    "total_cost = value(model.objective)\n",
    "print(\"Total Cost: ₹\", total_cost)\n",
    "\n",
    "results = []\n",
    "for w in warehouses:\n",
    "    for s in stores:\n",
    "        if routes[w][s].varValue > 0:\n",
    "            results.append({\n",
    "                'From': w,\n",
    "                'To': s,\n",
    "                'Units Shipped': routes[w][s].varValue,\n",
    "                'Cost/Unit': costs[(w, s)],\n",
    "                'Total Cost': routes[w][s].varValue * costs[(w, s)]\n",
    "            })\n",
    "\n",
    "df_results = pd.DataFrame(results)\n",
    "print(df_results)\n"
   ]
  },
  {
   "cell_type": "code",
   "execution_count": 12,
   "id": "29efd606-b48c-4d1c-b8c3-ebcc7516d897",
   "metadata": {},
   "outputs": [
    {
     "data": {
      "image/png": "[encoded data removed]",
      "text/plain": [
       "<Figure size 640x480 with 1 Axes>"
      ]
     },
     "metadata": {},
     "output_type": "display_data"
    }
   ],
   "source": [
    "import seaborn as sns\n",
    "import matplotlib.pyplot as plt\n",
    "\n",
    "# Visualize shipment volume per warehouse\n",
    "df_agg = df_results.groupby('From')['Units Shipped'].sum().reset_index()\n",
    "sns.barplot(data=df_agg, x='From', y='Units Shipped')\n",
    "plt.title(\"Total Units Shipped from Warehouses\")\n",
    "plt.show()\n"
   ]
  },
  {
   "cell_type": "code",
   "execution_count": null,
   "id": "b7355677-514b-48c6-8568-bb8efb585dad",
   "metadata": {},
   "outputs": [],
   "source": []
  }
 ],
 "metadata": {
  "kernelspec": {
   "display_name": "Python 3 (ipykernel)",
   "language": "python",
   "name": "python3"
  },
  "language_info": {
   "codemirror_mode": {
    "name": "ipython",
    "version": 3
   },
   "file_extension": ".py",
   "mimetype": "text/x-python",
   "name": "python",
   "nbconvert_exporter": "python",
   "pygments_lexer": "ipython3",
   "version": "3.12.4"
  }
 },
 "nbformat": 4,
 "nbformat_minor": 5
}
